{
 "cells": [
  {
   "cell_type": "markdown",
   "metadata": {},
   "source": [
    "# 1: Using Python PIL to crop an image"
   ]
  },
  {
   "cell_type": "code",
   "execution_count": null,
   "metadata": {},
   "outputs": [],
   "source": [
    "from PIL import Image"
   ]
  },
  {
   "cell_type": "code",
   "execution_count": 58,
   "metadata": {},
   "outputs": [],
   "source": [
    "img = Image.open(r\"C:\\Users\\MJ\\Pictures\\digital-earth-moon-hd-wallpaper-596714.jpg\") \n",
    " \n",
    "left = 610\n",
    "top = 242\n",
    "right = 1280\n",
    "bottom = 852\n",
    "  \n",
    "img_res = img.crop((left, top, right, bottom)) \n",
    "img_res.save(\"crop_image.png\")\n",
    "img_res.show() "
   ]
  },
  {
   "cell_type": "markdown",
   "metadata": {},
   "source": [
    "# 2: Crop an Image in Python using OpenCV"
   ]
  },
  {
   "cell_type": "code",
   "execution_count": 54,
   "metadata": {},
   "outputs": [
    {
     "data": {
      "text/plain": [
       "-1"
      ]
     },
     "execution_count": 54,
     "metadata": {},
     "output_type": "execute_result"
    }
   ],
   "source": [
    "import cv2\n",
    "image = cv2.imread(r\"C:\\Users\\MJ\\Pictures\\digital-earth-moon-hd-wallpaper-596714.jpg\")\n",
    " \n",
    "y=610\n",
    "x=242\n",
    "h=1280\n",
    "w=852\n",
    "crop_image = image[x:w, y:h]\n",
    "cv2.imshow(\"Cropped\", crop_image)\n",
    "cv2.waitKey(0)"
   ]
  },
  {
   "cell_type": "code",
   "execution_count": 60,
   "metadata": {},
   "outputs": [],
   "source": [
    "filename = \"croped-image.jpg\""
   ]
  },
  {
   "cell_type": "code",
   "execution_count": 62,
   "metadata": {},
   "outputs": [
    {
     "data": {
      "text/plain": [
       "True"
      ]
     },
     "execution_count": 62,
     "metadata": {},
     "output_type": "execute_result"
    }
   ],
   "source": [
    "cv2.imwrite(filename,crop_image)"
   ]
  },
  {
   "cell_type": "markdown",
   "metadata": {},
   "source": [
    "# PIL to crop an image¶"
   ]
  },
  {
   "cell_type": "code",
   "execution_count": 224,
   "metadata": {},
   "outputs": [],
   "source": [
    "img1 = Image.open(r\"C:\\Users\\MJ\\Pictures\\checks\\WhatsApp Image 2021-06-07 at 1.25.31 PM.jpeg\") \n",
    " \n",
    "left = 1080\n",
    "top = 382\n",
    "right = 1242\n",
    "bottom = 465\n",
    "  \n",
    "img_res1 = img1.crop((left, top, right, bottom)) \n",
    "img_res1.show() "
   ]
  },
  {
   "cell_type": "code",
   "execution_count": 218,
   "metadata": {},
   "outputs": [],
   "source": [
    "img2 = Image.open(r\"C:\\Users\\MJ\\Pictures\\checks\\WhatsApp Image 2021-06-07 at 1.25.31 PM (1).jpeg\") \n",
    " \n",
    "left = 710\n",
    "top = 362\n",
    "right = 1200\n",
    "bottom = 495\n",
    "  \n",
    "img_res2 = img2.crop((left, top, right, bottom)) \n",
    "img_res2.show() "
   ]
  },
  {
   "cell_type": "code",
   "execution_count": 215,
   "metadata": {},
   "outputs": [],
   "source": [
    "img3 = Image.open(r\"C:\\Users\\MJ\\Pictures\\checks\\WhatsApp Image 2021-06-07 at 1.25.31 PM (2).jpeg\") \n",
    " \n",
    "left = 850\n",
    "top = 345\n",
    "right = 1200\n",
    "bottom = 465\n",
    "  \n",
    "img_res3 = img3.crop((left, top, right, bottom)) \n",
    "img_res3.show() "
   ]
  },
  {
   "cell_type": "code",
   "execution_count": 206,
   "metadata": {},
   "outputs": [],
   "source": [
    "img4 = Image.open(r\"C:\\Users\\MJ\\Pictures\\checks\\WhatsApp Image 2021-06-07 at 1.25.31 PM (3).jpeg\") \n",
    " \n",
    "left = 710\n",
    "top = 340\n",
    "right = 1242\n",
    "bottom = 455\n",
    "  \n",
    "img_res4 = img4.crop((left, top, right, bottom)) \n",
    "img_res4.show() "
   ]
  },
  {
   "cell_type": "code",
   "execution_count": 202,
   "metadata": {},
   "outputs": [],
   "source": [
    "img5 = Image.open(r\"C:\\Users\\MJ\\Pictures\\checks\\WhatsApp Image 2021-06-07 at 1.25.31 PM.jpeg\") \n",
    " \n",
    "left = 1090\n",
    "top = 380\n",
    "right = 1242\n",
    "bottom = 458\n",
    "  \n",
    "img_res5 = img5.crop((left, top, right, bottom)) \n",
    "img_res5.show() "
   ]
  },
  {
   "cell_type": "code",
   "execution_count": 191,
   "metadata": {},
   "outputs": [],
   "source": [
    "img6 = Image.open(r\"C:\\Users\\MJ\\Pictures\\checks\\WhatsApp Image 2021-06-07 at 1.25.32 PM (1).jpeg\") \n",
    " \n",
    "left = 710\n",
    "top = 246\n",
    "right = 1112\n",
    "bottom = 435\n",
    "  \n",
    "img_res6 = img6.crop((left, top, right, bottom)) \n",
    "img_res6.show() "
   ]
  },
  {
   "cell_type": "code",
   "execution_count": 183,
   "metadata": {},
   "outputs": [],
   "source": [
    "img7 = Image.open(r\"C:\\Users\\MJ\\Pictures\\checks\\WhatsApp Image 2021-06-07 at 1.25.32 PM (2).jpeg\") \n",
    " \n",
    "left = 810\n",
    "top = 320\n",
    "right = 1242\n",
    "bottom = 435\n",
    "  \n",
    "img_res7 = img7.crop((left, top, right, bottom)) \n",
    "img_res7.show() "
   ]
  },
  {
   "cell_type": "code",
   "execution_count": 181,
   "metadata": {},
   "outputs": [],
   "source": [
    "img8 = Image.open(r\"C:\\Users\\MJ\\Pictures\\checks\\WhatsApp Image 2021-06-07 at 1.25.32 PM.jpeg\") \n",
    " \n",
    "left = 820\n",
    "top = 270\n",
    "right = 1160\n",
    "bottom = 410\n",
    "  \n",
    "img_res8 = img8.crop((left, top, right, bottom)) \n",
    "img_res8.show() "
   ]
  },
  {
   "cell_type": "code",
   "execution_count": 166,
   "metadata": {},
   "outputs": [],
   "source": [
    "img9 = Image.open(r\"C:\\Users\\MJ\\Pictures\\checks\\WhatsApp Image 2021-06-07 at 1.25.33 PM.jpeg\") \n",
    " \n",
    "left = 960\n",
    "top = 256\n",
    "right = 1200\n",
    "bottom = 360\n",
    "  \n",
    "img_res9 = img9.crop((left, top, right, bottom)) \n",
    "img_res9.show()"
   ]
  },
  {
   "cell_type": "code",
   "execution_count": 230,
   "metadata": {},
   "outputs": [],
   "source": [
    "import pandas as pd"
   ]
  },
  {
   "cell_type": "code",
   "execution_count": 231,
   "metadata": {},
   "outputs": [],
   "source": [
    "df = pd.read_excel(r\"C:\\Users\\MJ\\Pictures\\check-data.xlsx\")"
   ]
  },
  {
   "cell_type": "code",
   "execution_count": 232,
   "metadata": {},
   "outputs": [
    {
     "data": {
      "text/html": [
       "<div>\n",
       "<style scoped>\n",
       "    .dataframe tbody tr th:only-of-type {\n",
       "        vertical-align: middle;\n",
       "    }\n",
       "\n",
       "    .dataframe tbody tr th {\n",
       "        vertical-align: top;\n",
       "    }\n",
       "\n",
       "    .dataframe thead th {\n",
       "        text-align: right;\n",
       "    }\n",
       "</style>\n",
       "<table border=\"1\" class=\"dataframe\">\n",
       "  <thead>\n",
       "    <tr style=\"text-align: right;\">\n",
       "      <th></th>\n",
       "      <th>path</th>\n",
       "      <th>left</th>\n",
       "      <th>top</th>\n",
       "      <th>right</th>\n",
       "      <th>bottom</th>\n",
       "    </tr>\n",
       "  </thead>\n",
       "  <tbody>\n",
       "    <tr>\n",
       "      <th>0</th>\n",
       "      <td>C:\\Users\\MJ\\Pictures\\checks\\WhatsApp Image 202...</td>\n",
       "      <td>1080</td>\n",
       "      <td>382</td>\n",
       "      <td>1242</td>\n",
       "      <td>465</td>\n",
       "    </tr>\n",
       "    <tr>\n",
       "      <th>1</th>\n",
       "      <td>C:\\Users\\MJ\\Pictures\\checks\\WhatsApp Image 202...</td>\n",
       "      <td>710</td>\n",
       "      <td>362</td>\n",
       "      <td>1200</td>\n",
       "      <td>495</td>\n",
       "    </tr>\n",
       "    <tr>\n",
       "      <th>2</th>\n",
       "      <td>C:\\Users\\MJ\\Pictures\\checks\\WhatsApp Image 202...</td>\n",
       "      <td>850</td>\n",
       "      <td>345</td>\n",
       "      <td>1200</td>\n",
       "      <td>465</td>\n",
       "    </tr>\n",
       "    <tr>\n",
       "      <th>3</th>\n",
       "      <td>C:\\Users\\MJ\\Pictures\\checks\\WhatsApp Image 202...</td>\n",
       "      <td>710</td>\n",
       "      <td>340</td>\n",
       "      <td>1242</td>\n",
       "      <td>455</td>\n",
       "    </tr>\n",
       "    <tr>\n",
       "      <th>4</th>\n",
       "      <td>C:\\Users\\MJ\\Pictures\\checks\\WhatsApp Image 202...</td>\n",
       "      <td>1090</td>\n",
       "      <td>380</td>\n",
       "      <td>1242</td>\n",
       "      <td>458</td>\n",
       "    </tr>\n",
       "  </tbody>\n",
       "</table>\n",
       "</div>"
      ],
      "text/plain": [
       "                                                path  left  top  right  bottom\n",
       "0  C:\\Users\\MJ\\Pictures\\checks\\WhatsApp Image 202...  1080  382   1242     465\n",
       "1  C:\\Users\\MJ\\Pictures\\checks\\WhatsApp Image 202...   710  362   1200     495\n",
       "2  C:\\Users\\MJ\\Pictures\\checks\\WhatsApp Image 202...   850  345   1200     465\n",
       "3  C:\\Users\\MJ\\Pictures\\checks\\WhatsApp Image 202...   710  340   1242     455\n",
       "4  C:\\Users\\MJ\\Pictures\\checks\\WhatsApp Image 202...  1090  380   1242     458"
      ]
     },
     "execution_count": 232,
     "metadata": {},
     "output_type": "execute_result"
    }
   ],
   "source": [
    "df.head()"
   ]
  },
  {
   "cell_type": "code",
   "execution_count": 234,
   "metadata": {},
   "outputs": [],
   "source": [
    "for i in df.index:\n",
    "    im = Image.open(df['path'][i])\n",
    "    left = df.left[i]\n",
    "    top = df.top[i]\n",
    "    right = df.right[i]\n",
    "    bottom = df.bottom[i]\n",
    "    im = im.crop((int(left),int(top),int(right),int(bottom)))\n",
    "    im.show()\n",
    "    im.save(r\"C:\\Users\\MJ\\Pictures\\New folder\\\\\"+'im'+str(i)+'.jpg')"
   ]
  },
  {
   "cell_type": "code",
   "execution_count": 235,
   "metadata": {},
   "outputs": [],
   "source": [
    "for i in df.index:\n",
    "    im = Image.open(df['path'][i])\n",
    "    im = im.crop((df.left[i],df.top[i],df.right[i],df.bottom[i]))\n",
    "    im.show()\n",
    "    im.save(r\"C:\\Users\\MJ\\Pictures\\New folder (2)\\\\\"+'im'+str(i)+'.jpg')"
   ]
  },
  {
   "cell_type": "code",
   "execution_count": 240,
   "metadata": {},
   "outputs": [
    {
     "data": {
      "text/html": [
       "<div>\n",
       "<style scoped>\n",
       "    .dataframe tbody tr th:only-of-type {\n",
       "        vertical-align: middle;\n",
       "    }\n",
       "\n",
       "    .dataframe tbody tr th {\n",
       "        vertical-align: top;\n",
       "    }\n",
       "\n",
       "    .dataframe thead th {\n",
       "        text-align: right;\n",
       "    }\n",
       "</style>\n",
       "<table border=\"1\" class=\"dataframe\">\n",
       "  <thead>\n",
       "    <tr style=\"text-align: right;\">\n",
       "      <th></th>\n",
       "      <th>path</th>\n",
       "      <th>left</th>\n",
       "      <th>top</th>\n",
       "      <th>right</th>\n",
       "      <th>bottom</th>\n",
       "    </tr>\n",
       "  </thead>\n",
       "  <tbody>\n",
       "    <tr>\n",
       "      <th>0</th>\n",
       "      <td>C:\\Users\\MJ\\Pictures\\checks\\WhatsApp Image 202...</td>\n",
       "      <td>1080</td>\n",
       "      <td>382</td>\n",
       "      <td>1242</td>\n",
       "      <td>465</td>\n",
       "    </tr>\n",
       "    <tr>\n",
       "      <th>1</th>\n",
       "      <td>C:\\Users\\MJ\\Pictures\\checks\\WhatsApp Image 202...</td>\n",
       "      <td>710</td>\n",
       "      <td>362</td>\n",
       "      <td>1200</td>\n",
       "      <td>495</td>\n",
       "    </tr>\n",
       "    <tr>\n",
       "      <th>2</th>\n",
       "      <td>C:\\Users\\MJ\\Pictures\\checks\\WhatsApp Image 202...</td>\n",
       "      <td>850</td>\n",
       "      <td>345</td>\n",
       "      <td>1200</td>\n",
       "      <td>465</td>\n",
       "    </tr>\n",
       "    <tr>\n",
       "      <th>3</th>\n",
       "      <td>C:\\Users\\MJ\\Pictures\\checks\\WhatsApp Image 202...</td>\n",
       "      <td>710</td>\n",
       "      <td>340</td>\n",
       "      <td>1242</td>\n",
       "      <td>455</td>\n",
       "    </tr>\n",
       "    <tr>\n",
       "      <th>4</th>\n",
       "      <td>C:\\Users\\MJ\\Pictures\\checks\\WhatsApp Image 202...</td>\n",
       "      <td>1090</td>\n",
       "      <td>380</td>\n",
       "      <td>1242</td>\n",
       "      <td>458</td>\n",
       "    </tr>\n",
       "  </tbody>\n",
       "</table>\n",
       "</div>"
      ],
      "text/plain": [
       "                                                path  left  top  right  bottom\n",
       "0  C:\\Users\\MJ\\Pictures\\checks\\WhatsApp Image 202...  1080  382   1242     465\n",
       "1  C:\\Users\\MJ\\Pictures\\checks\\WhatsApp Image 202...   710  362   1200     495\n",
       "2  C:\\Users\\MJ\\Pictures\\checks\\WhatsApp Image 202...   850  345   1200     465\n",
       "3  C:\\Users\\MJ\\Pictures\\checks\\WhatsApp Image 202...   710  340   1242     455\n",
       "4  C:\\Users\\MJ\\Pictures\\checks\\WhatsApp Image 202...  1090  380   1242     458"
      ]
     },
     "execution_count": 240,
     "metadata": {},
     "output_type": "execute_result"
    }
   ],
   "source": [
    "df.head()"
   ]
  },
  {
   "cell_type": "code",
   "execution_count": null,
   "metadata": {},
   "outputs": [],
   "source": []
  },
  {
   "cell_type": "code",
   "execution_count": 243,
   "metadata": {},
   "outputs": [],
   "source": [
    "def crop_fun(x):\n",
    "    im=Image.open(x.path)\n",
    "    im=im.crop((x.left,x.top,x.right,x.bottom))\n",
    "    im.show()"
   ]
  },
  {
   "cell_type": "code",
   "execution_count": 244,
   "metadata": {},
   "outputs": [
    {
     "data": {
      "text/plain": [
       "0    None\n",
       "1    None\n",
       "2    None\n",
       "3    None\n",
       "4    None\n",
       "5    None\n",
       "6    None\n",
       "7    None\n",
       "8    None\n",
       "dtype: object"
      ]
     },
     "execution_count": 244,
     "metadata": {},
     "output_type": "execute_result"
    }
   ],
   "source": [
    "df.apply(crop_fun, axis=1)"
   ]
  },
  {
   "cell_type": "code",
   "execution_count": null,
   "metadata": {},
   "outputs": [],
   "source": [
    "\""
   ]
  },
  {
   "cell_type": "code",
   "execution_count": 245,
   "metadata": {},
   "outputs": [],
   "source": [
    "import os\n",
    "import matplotlib.pyplot as plt\n",
    "%matplotlib inline\n",
    "from glob import glob"
   ]
  },
  {
   "cell_type": "code",
   "execution_count": 247,
   "metadata": {},
   "outputs": [],
   "source": [
    "folders = glob(r'C:\\Users\\MJ\\Pictures\\dream/*')"
   ]
  },
  {
   "cell_type": "code",
   "execution_count": null,
   "metadata": {},
   "outputs": [],
   "source": []
  },
  {
   "cell_type": "code",
   "execution_count": 249,
   "metadata": {},
   "outputs": [
    {
     "name": "stdout",
     "output_type": "stream",
     "text": [
      "C:\\Users\\MJ\\Pictures\\dream\\cc\n",
      "C:\\Users\\MJ\\Pictures\\dream\\cc\\pair_01\n",
      "C:\\Users\\MJ\\Pictures\\dream\\cd\n",
      "C:\\Users\\MJ\\Pictures\\dream\\cd\\pair_01\n",
      "C:\\Users\\MJ\\Pictures\\dream\\dd\n",
      "C:\\Users\\MJ\\Pictures\\dream\\dd\\pair_01\n",
      "C:\\Users\\MJ\\Pictures\\dream\\od\n",
      "C:\\Users\\MJ\\Pictures\\dream\\od\\pair_01\n"
     ]
    }
   ],
   "source": [
    "for i in folders:\n",
    "    sub_path = str(i)\n",
    "    print(sub_path)\n",
    "    if os.path.isdir(sub_path):\n",
    "        new_dir_path = os.path.join(sub_path, 'pair_01')\n",
    "        print(new_dir_path)\n",
    "        os.mkdir(new_dir_path)"
   ]
  },
  {
   "cell_type": "code",
   "execution_count": null,
   "metadata": {},
   "outputs": [],
   "source": [
    "folders = glob(r'C:\\Users\\MJ\\Pictures\\dream/*')"
   ]
  },
  {
   "cell_type": "code",
   "execution_count": 251,
   "metadata": {},
   "outputs": [
    {
     "name": "stdout",
     "output_type": "stream",
     "text": [
      "C:\\Users\\MJ\\Pictures\\dream\\cc\n",
      "C:\\Users\\MJ\\Pictures\\dream\\cc\\pair_02\n",
      "C:\\Users\\MJ\\Pictures\\dream\\cd\n",
      "C:\\Users\\MJ\\Pictures\\dream\\cd\\pair_02\n",
      "C:\\Users\\MJ\\Pictures\\dream\\dd\n",
      "C:\\Users\\MJ\\Pictures\\dream\\dd\\pair_02\n",
      "C:\\Users\\MJ\\Pictures\\dream\\od\n",
      "C:\\Users\\MJ\\Pictures\\dream\\od\\pair_02\n"
     ]
    }
   ],
   "source": [
    "for i in folders:\n",
    "    print(i)\n",
    "    if os.path.isdir(i):\n",
    "        new_dir_path = os.path.join(i, 'pair_02')\n",
    "        print(new_dir_path)\n",
    "        os.mkdir(new_dir_path)"
   ]
  },
  {
   "cell_type": "code",
   "execution_count": null,
   "metadata": {},
   "outputs": [],
   "source": []
  }
 ],
 "metadata": {
  "kernelspec": {
   "display_name": "Python 3",
   "language": "python",
   "name": "python3"
  },
  "language_info": {
   "codemirror_mode": {
    "name": "ipython",
    "version": 3
   },
   "file_extension": ".py",
   "mimetype": "text/x-python",
   "name": "python",
   "nbconvert_exporter": "python",
   "pygments_lexer": "ipython3",
   "version": "3.8.5"
  }
 },
 "nbformat": 4,
 "nbformat_minor": 4
}
